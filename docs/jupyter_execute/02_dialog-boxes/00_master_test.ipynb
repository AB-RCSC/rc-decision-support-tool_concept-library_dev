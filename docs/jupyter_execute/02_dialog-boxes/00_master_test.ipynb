{
 "cells": [
  {
   "cell_type": "markdown",
   "id": "9274c21e",
   "metadata": {},
   "source": [
    "# Template\n",
    "\n",
    "::::::::{hint}\n",
    "replace me with text\n",
    "::::::::\n",
    "\n",
    "```{include} pro_con_assump/mod_scr_secr_apc.md\n",
    "```\n",
    "\n",
    "::::::::{tab-set}\n",
    "\n",
    ":::::::{tab-item} Overview\n",
    "```{include} include/00_coming_soon.md\n",
    "```\n",
    ":::::::\n",
    "\n",
    ":::::::{tab-item} In-depth\n",
    "```{include} include/00_coming_soon.md\n",
    "```\n",
    ":::::::\n",
    "\n",
    ":::::::{tab-item} Visual resources\n",
    "\n",
    ":::::{grid} 3\n",
    ":class: wrapper\n",
    "\n",
    "::::{grid-item-card} {{ rtxt_figure1_ref_id }}\n",
    ":::{figure} ../03_images/03_image_files/figure1_filename.png\n",
    ":class: img_grid\n",
    "\n",
    ":::\n",
    "figure1_caption\n",
    "::::\n",
    "\n",
    "::::{grid-item-card} {{ rtxt_figure2_ref_id }}\n",
    ":::{figure} ../03_images/03_image_files/figure2_filename.png \n",
    ":class: img_grid\n",
    "\n",
    ":::\n",
    "figure2_caption\n",
    "::::\n",
    "\n",
    "::::{grid-item-card} {{ rtxt_figure3_ref_id }}\n",
    ":::{figure} ../03_images/03_image_files/figure3_filename.png \n",
    ":class: img_grid\n",
    "\n",
    ":::\n",
    "figure3_caption\n",
    "::::\n",
    "\n",
    ":::::\n",
    ":::::::\n",
    "\n",
    ":::::::{tab-item} Shiny apps/Widgets\n",
    "```{include} include/00_coming_soon.md\n",
    "```\n",
    ":::::::\n",
    "\n",
    ":::::::{tab-item} Analytical tools & Resources\n",
    "| Type | Name | Note | URL |Reference |\n",
    "|:----------------|:-------------------------------|:----------------------------------------------------------------|:----------------------|:----------------------------------------|\n",
    "| resource1_type | resource1_name | resource1_note | resource1_url | {{ rbib_resource1_ref_id }} |\n",
    "| resource2_type | resource2_name | resource2_note | resource2_url | {{ rbib_resource2_ref_id }} |\n",
    "| resource3_type | resource3_name | resource3_note | resource3_url | {{ rbib_resource3_ref_id }} |\n",
    "| resource4_type | resource4_name | resource4_note | resource4_url | {{ rbib_resource4_ref_id }} |\n",
    "| resource5_type | resource5_name | resource5_note | resource5_url | {{ rbib_resource5_ref_id }} |\n",
    "| resource6_type | resource6_name | resource6_note | resource6_url | {{ rbib_resource6_ref_id }} |\n",
    "| resource7_type | resource7_name | resource7_note | resource7_url | {{ rbib_resource7_ref_id }} |\n",
    "| resource8_type | resource8_name | resource8_note | resource8_url | {{ rbib_resource8_ref_id }} |\n",
    "| resource9_type | resource9_name | resource9_note | resource9_url | {{ rbib_resource9_ref_id }} |\n",
    ":::::::\n",
    "\n",
    ":::::::{tab-item} References\n",
    "```{include} include/00_coming_soon.md\n",
    "```\n",
    ":::::::\n",
    "\n",
    "::::::::"
   ]
  }
 ],
 "metadata": {
  "editor_options": {
   "markdown": {
    "wrap": "none"
   }
  },
  "jupytext": {
   "formats": "md:myst",
   "text_representation": {
    "extension": ".md",
    "format_name": "myst",
    "format_version": "0.17.2 <!--0.13-->",
    "jupytext_version": "1.16.4 <!-- 6.5.4-->"
   }
  },
  "kernelspec": {
   "display_name": "Python 3",
   "language": "python",
   "name": "python3"
  },
  "language_info": {
   "codemirror_mode": {
    "name": "ipython",
    "version": 3
   },
   "file_extension": ".py",
   "mimetype": "text/x-python",
   "name": "python",
   "nbconvert_exporter": "python",
   "pygments_lexer": "ipython3",
   "version": "3.12.8"
  },
  "source_map": [
   16
  ]
 },
 "nbformat": 4,
 "nbformat_minor": 5
}