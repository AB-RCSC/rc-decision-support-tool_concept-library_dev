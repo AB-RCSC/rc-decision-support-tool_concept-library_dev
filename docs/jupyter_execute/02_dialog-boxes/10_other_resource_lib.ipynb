{
 "cells": [
  {
   "cell_type": "markdown",
   "id": "98da8f88",
   "metadata": {},
   "source": [
    "(other_resource_lib)=\n",
    "# Other resource libraries\n",
    "\n",
    "::::{grid} 3\n",
    ":gutter: 3\n",
    ":class: grid-wrapper\n",
    "\n",
    ":::{grid-item-card}\n",
    ":link: https://wildcams.ca/resources/\n",
    ":img-background: /03_images/01_ui/transparent.png\n",
    ":padding: 1\n",
    ":text-align: center\n",
    ":class-card: class-prog4\n",
    "\n",
    "Wildlife Cameras for Adaptive Management (WildCAM)\n",
    "\n",
    "<a href=\"https://wildcams.ca/resources/\" target=\"_blank\">Resources Section: https://wildcams.ca/resources/</a>.\n",
    ":::\n",
    "\n",
    ":::{grid-item-card}\n",
    ":img-background: /03_images/01_ui/transparent.png\n",
    ":padding: 1\n",
    ":text-align: center\n",
    ":class-card: class-prog4\n",
    "\n",
    "Boreal Caribou Monitoring Toolkit\n",
    "https://www.cclmportal.ca/resource/boreal-caribou-monitoring-toolkit\n",
    "\n",
    "Currently, the <a href=\"https://www.cclmportal.ca/about/monitoring-working-group-mwg-nbckc\" target=\"_blank\">Monitoring Working Group</a> is creating a toolkit to help users select the boreal caribou monitoring methods which may be applied to their program and/or re-evaluate the methods currently being used in their area. The objectives of this toolkit are:\n",
    "\n",
    "- To centralize existing resources relevant to the monitoring of boreal caribou, \n",
    "- To provide valuable and accessible guidance for anyone engaged in, or planning to initiate, monitoring programs, and \n",
    "- To identify where knowledge gaps still exist, such that toolkit users may see opportunities to contribute resources to the toolkit. \n",
    "\n",
    "Be sure to read more about the Monitoring Working Group's ongoing toolkit project by clicking <a href=\"https://www.cclmportal.ca/project/monitoring-working-group-nbckc-project-page\" target=\"_blank\">https://www.cclmportal.ca/project/monitoring-working-group-nbckc-project-page</a>.\n",
    ":::\n",
    "\n",
    ":::{grid-item-card}\n",
    ":img-background: /03_images/01_ui/transparent.png\n",
    ":padding: 1\n",
    ":text-align: center\n",
    ":class-card: class-prog4\n",
    "\n",
    "testtest\n",
    ":::\n",
    "\n",
    "::::"
   ]
  }
 ],
 "metadata": {
  "editor_options": {
   "markdown": {
    "wrap": "none"
   }
  },
  "jupytext": {
   "formats": "md:myst",
   "text_representation": {
    "extension": ".md",
    "format_name": "myst",
    "format_version": "0.17.2 <!--0.13-->",
    "jupytext_version": "1.16.4 <!-- 6.5.4-->"
   }
  },
  "kernelspec": {
   "display_name": "Python 3",
   "language": "python",
   "name": "python3"
  },
  "language_info": {
   "codemirror_mode": {
    "name": "ipython",
    "version": 3
   },
   "file_extension": ".py",
   "mimetype": "text/x-python",
   "name": "python",
   "nbconvert_exporter": "python",
   "pygments_lexer": "ipython3",
   "version": "3.12.8"
  },
  "source_map": [
   16
  ]
 },
 "nbformat": 4,
 "nbformat_minor": 5
}