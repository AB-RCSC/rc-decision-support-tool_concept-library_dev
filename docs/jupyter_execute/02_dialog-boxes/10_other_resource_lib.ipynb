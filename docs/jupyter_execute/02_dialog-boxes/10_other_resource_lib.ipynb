{
 "cells": [
  {
   "cell_type": "markdown",
   "id": "43a7bd72",
   "metadata": {},
   "source": [
    "(other_resource_lib)=\n",
    "# Other resource libraries\n",
    "\n",
    ":::::{grid} 3\n",
    ":gutter: 3\n",
    ":class: wrapper\n",
    "\n",
    ":::{grid-item-card}\n",
    ":link: https://wildcams.ca/resources/\n",
    ":img-background: ./03_images/01_ui/transparent.png\n",
    ":padding: 1\n",
    ":text-align: center\n",
    ":class-card: class-prog4\n",
    "\n",
    "<div class=\"class-card-center toc_text_tight\">Wildlife Cameras for Adaptive Management (WildCAM)</div>\n",
    ":::\n",
    "\n",
    ":::{grid-item-card}\n",
    ":link: https://www.cclmportal.ca/resource/boreal-caribou-monitoring-toolkit\n",
    ":img-background: ./03_images/01_ui/transparent.png\n",
    ":padding: 1\n",
    ":text-align: center\n",
    ":class-card: class-prog4\n",
    "\n",
    "<div class=\"class-card-center toc_text_tight\">Boreal Caribou Monitoring Toolkit</div>\n",
    ":::\n",
    "\n",
    ":::{grid-item-card}\n",
    "...\n",
    ":::\n",
    "\n",
    ":::::"
   ]
  }
 ],
 "metadata": {
  "editor_options": {
   "markdown": {
    "wrap": "none"
   }
  },
  "jupytext": {
   "formats": "md:myst",
   "text_representation": {
    "extension": ".md",
    "format_name": "myst",
    "format_version": "0.17.2 <!--0.13-->",
    "jupytext_version": "1.16.4 <!-- 6.5.4-->"
   }
  },
  "kernelspec": {
   "display_name": "Python 3",
   "language": "python",
   "name": "python3"
  },
  "language_info": {
   "codemirror_mode": {
    "name": "ipython",
    "version": 3
   },
   "file_extension": ".py",
   "mimetype": "text/x-python",
   "name": "python",
   "nbconvert_exporter": "python",
   "pygments_lexer": "ipython3",
   "version": "3.12.7"
  },
  "source_map": [
   16
  ]
 },
 "nbformat": 4,
 "nbformat_minor": 5
}