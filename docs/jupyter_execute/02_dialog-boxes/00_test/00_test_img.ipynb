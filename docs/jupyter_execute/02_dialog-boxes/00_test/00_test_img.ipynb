{
 "cells": [
  {
   "cell_type": "markdown",
   "id": "225a851c",
   "metadata": {},
   "source": [
    ":::{figure-md} markdown-fig\n",
    "<img src=\"../03_images/03_image_files/bayne_et_al_2022_figa.png\" alt=\"fishy\" class=\"bg-primary mb-1\" width=\"200px\">\n",
    "\n",
    "This is a caption in **Markdown**!\n",
    ":::\n",
    "\n",
    "[Go to the fish!](markdown-fig)\n",
    "\n",
    "[](markdown-fig)"
   ]
  }
 ],
 "metadata": {
  "editor_options": {
   "markdown": {
    "wrap": "none"
   }
  },
  "jupytext": {
   "formats": "md:myst",
   "text_representation": {
    "extension": ".md",
    "format_name": "myst",
    "format_version": "0.17.2 <!--0.13-->",
    "jupytext_version": "1.16.4 <!-- 6.5.4-->"
   }
  },
  "kernelspec": {
   "display_name": "Python 3",
   "language": "python",
   "name": "python3"
  },
  "language_info": {
   "codemirror_mode": {
    "name": "ipython",
    "version": 3
   },
   "file_extension": ".py",
   "mimetype": "text/x-python",
   "name": "python",
   "nbconvert_exporter": "python",
   "pygments_lexer": "ipython3",
   "version": "3.12.7"
  },
  "source_map": [
   16
  ]
 },
 "nbformat": 4,
 "nbformat_minor": 5
}