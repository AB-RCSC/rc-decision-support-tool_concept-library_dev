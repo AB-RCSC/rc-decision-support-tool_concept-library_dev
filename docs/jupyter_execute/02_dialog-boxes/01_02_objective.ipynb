{
 "cells": [
  {
   "cell_type": "markdown",
   "id": "eb79d31f",
   "metadata": {},
   "source": [
    ":::{dropdown}\n",
    "```{include} include/01_02_objective2.md\n",
    "```\n",
    ":::"
   ]
  }
 ],
 "metadata": {
  "editor_options": {
   "markdown": {
    "wrap": "none"
   }
  },
  "jupytext": {
   "formats": "md:myst",
   "text_representation": {
    "extension": ".md",
    "format_name": "myst",
    "format_version": "0.17.2 <!--0.13-->",
    "jupytext_version": "1.16.4 <!-- 6.5.4-->"
   }
  },
  "kernelspec": {
   "display_name": "Python 3",
   "language": "python",
   "name": "python3"
  },
  "language_info": {
   "codemirror_mode": {
    "name": "ipython",
    "version": 3
   },
   "file_extension": ".py",
   "mimetype": "text/x-python",
   "name": "python",
   "nbconvert_exporter": "python",
   "pygments_lexer": "ipython3",
   "version": "3.12.7"
  },
  "source_map": [
   16
  ]
 },
 "nbformat": 4,
 "nbformat_minor": 5
}