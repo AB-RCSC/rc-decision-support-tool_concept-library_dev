{
 "cells": [
  {
   "cell_type": "markdown",
   "id": "3382936e-eec8-4525-b415-421e1fe0e1c1",
   "metadata": {},
   "source": [
    "# References test"
   ]
  },
  {
   "cell_type": "code",
   "execution_count": 1,
   "id": "4b6c06c8-683e-4d92-9a1d-a3525b3b100a",
   "metadata": {},
   "outputs": [
    {
     "ename": "ModuleNotFoundError",
     "evalue": "No module named 'pandas'",
     "output_type": "error",
     "traceback": [
      "\u001b[1;31m---------------------------------------------------------------------------\u001b[0m",
      "\u001b[1;31mModuleNotFoundError\u001b[0m                       Traceback (most recent call last)",
      "Cell \u001b[1;32mIn[1], line 7\u001b[0m\n\u001b[0;32m      1\u001b[0m {\n\u001b[0;32m      2\u001b[0m     \u001b[38;5;124m\"\u001b[39m\u001b[38;5;124mtags\u001b[39m\u001b[38;5;124m\"\u001b[39m: [\n\u001b[0;32m      3\u001b[0m         \u001b[38;5;124m\"\u001b[39m\u001b[38;5;124mhide-input\u001b[39m\u001b[38;5;124m\"\u001b[39m,\n\u001b[0;32m      4\u001b[0m     ]\n\u001b[0;32m      5\u001b[0m }\n\u001b[0;32m      6\u001b[0m \u001b[38;5;66;03m# https://blog.jupyter.org/make-your-pandas-or-polars-dataframes-interactive-with-itables-2-0-c64e75468fe6\u001b[39;00m\n\u001b[1;32m----> 7\u001b[0m \u001b[38;5;28;01mimport\u001b[39;00m\u001b[38;5;250m \u001b[39m\u001b[38;5;21;01mpandas\u001b[39;00m\u001b[38;5;250m \u001b[39m\u001b[38;5;28;01mas\u001b[39;00m\u001b[38;5;250m \u001b[39m\u001b[38;5;21;01mpd\u001b[39;00m\n\u001b[0;32m      8\u001b[0m df \u001b[38;5;241m=\u001b[39m pd\u001b[38;5;241m.\u001b[39mread_csv(\u001b[38;5;124mr\u001b[39m\u001b[38;5;124m'\u001b[39m\u001b[38;5;124mC:\u001b[39m\u001b[38;5;124m\\\u001b[39m\u001b[38;5;124mUsers\u001b[39m\u001b[38;5;124m\\\u001b[39m\u001b[38;5;124mcassi\u001b[39m\u001b[38;5;124m\\\u001b[39m\u001b[38;5;124mDocuments\u001b[39m\u001b[38;5;124m\\\u001b[39m\u001b[38;5;124mGitHub_AB-RCSC\u001b[39m\u001b[38;5;124m\\\u001b[39m\u001b[38;5;124mrc-tool_concept-library\u001b[39m\u001b[38;5;124m\\\u001b[39m\u001b[38;5;124mreferences.csv\u001b[39m\u001b[38;5;124m'\u001b[39m, encoding\u001b[38;5;241m=\u001b[39m\u001b[38;5;124m'\u001b[39m\u001b[38;5;124mlatin-1\u001b[39m\u001b[38;5;124m'\u001b[39m)\n\u001b[0;32m     10\u001b[0m \u001b[38;5;28;01mfrom\u001b[39;00m\u001b[38;5;250m \u001b[39m\u001b[38;5;21;01mitables\u001b[39;00m\u001b[38;5;250m \u001b[39m\u001b[38;5;28;01mimport\u001b[39;00m init_notebook_mode\n",
      "\u001b[1;31mModuleNotFoundError\u001b[0m: No module named 'pandas'"
     ]
    }
   ],
   "source": [
    "{\n",
    "    \"tags\": [\n",
    "        \"hide-input\",\n",
    "    ]\n",
    "}\n",
    "# https://blog.jupyter.org/make-your-pandas-or-polars-dataframes-interactive-with-itables-2-0-c64e75468fe6\n",
    "import pandas as pd\n",
    "df = pd.read_csv(r'C:\\Users\\cassi\\Documents\\GitHub_AB-RCSC\\rc-tool_concept-library\\references.csv', encoding='latin-1')\n",
    "\n",
    "from itables import init_notebook_mode\n",
    "\n",
    "init_notebook_mode(all_interactive=True)\n",
    "\n",
    "from itables import show\n",
    "\n",
    "# table1 = show(df, buttons=[\"copyHtml5\", \"csvHtml5\", \"excelHtml5\"])\n",
    "#table1-->\n",
    "# Use paging=False to show the table in full\n",
    "# show(df, scrollY=\"200px\", scrollCollapse=True, paging=False)\n",
    "# lengthMenu=[100, 5, 10, 20, 50]\n",
    "# \"targets\": \"_all\"\n",
    "# \"targets\": [3, 4]\n",
    "# table1 = show(df, columnDefs=[{\"className\": \"dt-left\", \"targets\": \"_all\"}, {\"width\": \"50px\", \"targets\": \"_all\"}], \n",
    "#              scrollY=\"700px\", scrollCollapse=True, paging=False, footer=True, buttons=[\"copyHtml5\", \"csvHtml5\", \"excelHtml5\"])\n",
    "# layout={\"topStart\": \"search\", \"topEnd\": None}\n",
    "# footer=True,\n",
    "#table1 = show(df, columnDefs=[{\"width\": \"130px\", \"targets\": [0]},{\"className\": \"dt-left\", \"targets\": \"_all\"}], style=\"width:1500px\", autoWidth=False,\n",
    "#              lengthMenu=[100, 200, 300, 400, 500],\n",
    "#              search={\"regex\": True, \"caseInsensitive\": True, \"search\": \"\"},\n",
    "#              classes=\"display wrap\",\n",
    "#              scrollY=\"700px\", scrollCollapse=True, paging=True,\n",
    "#              buttons=[\"pageLength\",\"copyHtml5\", \"csvHtml5\", \"excelHtml5\"])\n",
    "# {\"width\": \"130px\", \"targets\": [0]}\n",
    "#table1 = show(df, columnDefs=[{\"width\": \"130px\", \"targets\": [0]},{\"className\": \"dt-left\", \"targets\": \"_all\"}], \n",
    "table1 = show(df, columnDefs=[{\"width\": \"130px\", \"targets\": [0]},{\"className\": \"dt-left\", \"targets\": \"_all\"}], \n",
    "              style=\"width:1300px\", \n",
    "              autoWidth=False,\n",
    "              column_filters=\"header\",\n",
    "              layout={\"topStart\": \"buttons\", \"topEnd\": \"search\"},\n",
    "              lengthMenu=[100, 200, 300, 400, 500],\n",
    "              search={\"regex\": True, \"caseInsensitive\": True, \"search\": \"\"},\n",
    "              classes=\"display wrap\",\n",
    "              scrollY=\"650px\", scrollCollapse=True, paging=False,\n",
    "              buttons=[\"pageLength\",\"copyHtml5\", \"csvHtml5\", \"excelHtml5\"])\n",
    "table1"
   ]
  },
  {
   "cell_type": "code",
   "execution_count": null,
   "id": "2f8e025e-ee77-4722-881c-9505722019c6",
   "metadata": {},
   "outputs": [],
   "source": []
  },
  {
   "cell_type": "code",
   "execution_count": null,
   "id": "bb3d9bfc-c6ed-464a-a0ab-009961a2de7a",
   "metadata": {},
   "outputs": [],
   "source": []
  }
 ],
 "metadata": {
  "kernelspec": {
   "display_name": "Python 3 (ipykernel)",
   "language": "python",
   "name": "python3"
  },
  "language_info": {
   "codemirror_mode": {
    "name": "ipython",
    "version": 3
   },
   "file_extension": ".py",
   "mimetype": "text/x-python",
   "name": "python",
   "nbconvert_exporter": "python",
   "pygments_lexer": "ipython3",
   "version": "3.12.8"
  }
 },
 "nbformat": 4,
 "nbformat_minor": 5
}