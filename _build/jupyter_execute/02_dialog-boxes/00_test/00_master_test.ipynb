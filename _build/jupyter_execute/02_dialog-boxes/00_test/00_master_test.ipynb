{
 "cells": [
  {
   "cell_type": "markdown",
   "id": "e3a9bb20",
   "metadata": {},
   "source": [
    "(i_mod_occupancy)=\n",
    "# {{ name_mod_occupancy }}\n",
    "\n",
    "test\n",
    "\n",
    "<iframe src=\"/test/1_Info-for-Participants.html\" width=\"100%\" height=\"300\" style=\"border:1px solid black;\">\n",
    "</iframe>\n",
    "\n",
    "\n",
    "<iframe id=\"serviceFrameSend\" src=\"test/1_Info-for-Participants.html\" width=\"1000\" height=\"1000\"  frameborder=\"0\">\n",
    "\n",
    ":::::{hint}\n",
    "I am a note\n",
    ":::::\n",
    "\n",
    ":::::{admonition}\n",
    ":type: info\n",
    "I am a note\n",
    ":::::\n",
    "\n",
    ":::::::{tab-set}\n",
    "\n",
    "::::::{tab-item} TEST\n",
    "**<font size=“4”><span style=“color:#2F5496”>How does this relate to study design?</font></span>**\n",
    "<div class=“h_bold”>How does this relate to study design?</div>\n",
    "\n",
    "this one\n",
    "```{include} include/00_test_image.md\n",
    "```\n",
    "\n",
    "::::::\n",
    "::::::{tab-item} Overview\n",
    "This section will be available soon! In the meantime, check out the information in the other tabs!\n",
    "\n",
    ":::{figure} ../03_images/03_image_files/00_coming_soon.png\n",
    ":width: 300px\n",
    ":align: center\n",
    ":::\n",
    "\n",
    "::::::\n",
    "\n",
    ":::::::"
   ]
  }
 ],
 "metadata": {
  "editor_options": {
   "markdown": {
    "wrap": "none"
   }
  },
  "jupytext": {
   "formats": "md:myst",
   "text_representation": {
    "extension": ".md",
    "format_name": "myst",
    "format_version": "0.17.2 <!--0.13-->",
    "jupytext_version": "1.16.4 <!-- 6.5.4-->"
   }
  },
  "kernelspec": {
   "display_name": "Python 3",
   "language": "python",
   "name": "python3"
  },
  "language_info": {
   "codemirror_mode": {
    "name": "ipython",
    "version": 3
   },
   "file_extension": ".py",
   "mimetype": "text/x-python",
   "name": "python",
   "nbconvert_exporter": "python",
   "pygments_lexer": "ipython3",
   "version": "3.12.7"
  },
  "source_map": [
   16
  ]
 },
 "nbformat": 4,
 "nbformat_minor": 5
}