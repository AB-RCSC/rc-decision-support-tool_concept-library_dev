{
 "cells": [
  {
   "cell_type": "markdown",
   "id": "451a2f69",
   "metadata": {},
   "source": [
    "(i_mod_2flankspim)=\n",
    "# {{ title_i_mod_2flankspim }}\n",
    "\n",
    "<!--\n",
    ":::{hint}\n",
    "replace me with text\n",
    ":::\n",
    "-->\n",
    "\n",
    "**{{ name_mod_2flankspim }}**: {{ def_mod_2flankspim }}\n",
    "```{include} pro_con_assump/mod_2flankspim_apc.md\n",
    "```\n",
    "\n",
    ":::::::{tab-set}\n",
    "\n",
    "::::::{tab-item} Overview\n",
    "```{include} include/00_coming_soon.md\n",
    "```\n",
    "::::::\n",
    "\n",
    "::::::{tab-item} In-depth\n",
    "```{include} include/note_adapted_clarke_et_al_2023.md\n",
    "```\n",
    "\n",
    "The two-flank spatial partial identity model (2-flank SPIM) is an extension of camera trap spatial capture-recapture (SCR; see {bdg-link-primary-line}`Spatial capture-recapture (SCR) / Spatially explicit capture recapture (SECR)<https://ab-rcsc.github.io/rc-decision-support-tool_concept-library/02_dialog-boxes/03_11_mod_scr_secr.html>`). Camera trap SCR uses images of uniquely-identifiable animals to infer the number of activity (or home range) centres in a population, and the area bounding these activity centres – or population size *𝑁* and sampling frame *𝐴*, respectively (see How the Model Works in the SCR section{bdg-link-primary-line}`Spatial capture-recapture (SCR) / Spatially explicit capture recapture (SECR)<https://ab-rcsc.github.io/rc-decision-support-tool_concept-library/02_dialog-boxes/03_11_mod_scr_secr.html>`). Oftentimes, individual identities are linked to animals using a paired camera sampling design: two cameras are deployed per station, facing each other, to capture the left and right flanks of a passing animal simultaneously. This design ensures that a single identity is Linked to both sides of an individual (i.e., an individual’s identity is completely resolved; {{ rtxt_augustine_et_al_2018 }}). Single-sided captures (e.g., due to unpaired sampling design, camera failure, unclear images, obstructions) cannot be used to resolve an individual’s identity with certainty, as separate identities can be erroneously assigned to the left and right sides of the same animal. Single-sided images are therefore partially-identifying, and are often excluded from analyses, resulting in loss of data and compromised density estimates ({{ rtxt_augustine_et_al_2018 }}).\n",
    "\n",
    "The 2-flank SPIM draws on the locations of partially-identifying images captures to probabilistically resolve animals’ complete identities ({{ rtxt_augustine_et_al_2018 }}). Partiallyidentifying captures that are many home ranges apart, for example, are not likely to belong to the same individual; left-and-right flank images captured at the same camera station in quick succession, on the other hand, are likely to belong to the same individual ({{ rtxt_augustine_et_al_2018 }}). Thus, the 2-flank SPIM is essentially an SCR model augmented with data from partially-identifying images (i.e., \"SCR+\").\n",
    "\n",
    "## Simulations and Field Experiments\n",
    "\n",
    "Simulations show that the 2-flank SPIM improves density estimates – especially when populations are small and few individuals can be completely identified ({{ rtxt_augustine_et_al_2018 }}). Moreover, the 2-flank SPIM performed better when camera stations were regularly spaced and deployed close to one another relative to animals’ home range sizes ({{ rtxt_augustine_et_al_2018 }}).\n",
    "\n",
    "In the field: Augustine et al. (2018) found that the 2-flank SPIM improved inference (i.e., accuracy and precision of estimates) for both a paired-camera survey of ocelots and a single-camera survey of bobcats. The 2-flank SPIM also produced estimates of leopard and spotted hyaena density that were more precise than SCR ({{ rtxt_davis_et_al_2021 }}).\n",
    "::::::\n",
    "\n",
    "::::::{tab-item} Visual resources\n",
    "\n",
    ":::::{grid} 3\n",
    ":gutter: 1\n",
    ":padding: 0\n",
    ":margin: 0\n",
    "\n",
    "::::{grid-item-card} {{ rtxt_figure1_ref_id }}\n",
    ":::{figure} ../03_images/03_image_files/figure1_filename.png\n",
    ":class: img_grid\n",
    ":::\n",
    "::::\n",
    "\n",
    "::::{grid-item-card} {{ rtxt_figure2_ref_id }}\n",
    ":::{figure} ../03_images/03_image_files/figure2_filename.png\n",
    ":class: img_grid\n",
    ":::\n",
    "::::\n",
    "\n",
    "::::{grid-item-card} {{ rtxt_figure3_ref_id }}\n",
    ":::{figure} ../03_images/03_image_files/figure3_filename.png\n",
    ":class: img_grid\n",
    ":::\n",
    "::::\n",
    "\n",
    ":::::\n",
    "::::::\n",
    "\n",
    ":::::{tab-item} Analytical tools & Resources\n",
    "| Type | Name | Note | URL |Reference |\n",
    "|:----------------|:-------------------------------|:----------------------------------------------------------------|:----------------------|:----------------------------------------|\n",
    "<!-- END_RESOURCE_TABLE -->\n",
    "::::::\n",
    "\n",
    "::::::{tab-item} References\n",
    "{{ rbib_augustine_et_al_2018 }}\n",
    "\n",
    "{{ rbib_clarke_et_al_2023 }}\n",
    "\n",
    "{{ rbib_davis_et_al_2021 }}\n",
    "::::::\n",
    "\n",
    ":::::::"
   ]
  }
 ],
 "metadata": {
  "editor_options": {
   "markdown": {
    "wrap": "none"
   }
  },
  "jupytext": {
   "formats": "md:myst",
   "text_representation": {
    "extension": ".md",
    "format_name": "myst",
    "format_version": "0.17.2 <!--0.13-->",
    "jupytext_version": "1.16.4 <!-- 6.5.4-->"
   }
  },
  "kernelspec": {
   "display_name": "Python 3",
   "language": "python",
   "name": "python3"
  },
  "language_info": {
   "codemirror_mode": {
    "name": "ipython",
    "version": 3
   },
   "file_extension": ".py",
   "mimetype": "text/x-python",
   "name": "python",
   "nbconvert_exporter": "python",
   "pygments_lexer": "ipython3",
   "version": "3.12.7"
  },
  "source_map": [
   16
  ]
 },
 "nbformat": 4,
 "nbformat_minor": 5
}